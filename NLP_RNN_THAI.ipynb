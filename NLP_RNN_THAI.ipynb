{
 "cells": [
  {
   "cell_type": "code",
   "execution_count": 27,
   "metadata": {},
   "outputs": [
    {
     "name": "stdout",
     "output_type": "stream",
     "text": [
      "Collecting torch\n",
      "  Downloading torch-1.7.0-cp38-none-macosx_10_9_x86_64.whl (108.1 MB)\n",
      "\u001b[K     |████████████████████████████████| 108.1 MB 877 kB/s eta 0:00:01    |███████████████▋                | 52.9 MB 656 kB/s eta 0:01:25     |████████████████                | 53.8 MB 743 kB/s eta 0:01:13     |█████████████████▊              | 59.8 MB 874 kB/s eta 0:00:56     |█████████████████████████████   | 98.1 MB 388 kB/s eta 0:00:26     |█████████████████████████████▋  | 100.2 MB 808 kB/s eta 0:00:10\n",
      "\u001b[?25hCollecting dataclasses\n",
      "  Downloading dataclasses-0.6-py3-none-any.whl (14 kB)\n",
      "Requirement already satisfied: numpy in ./opt/anaconda3/lib/python3.8/site-packages (from torch) (1.18.5)\n",
      "Requirement already satisfied: future in ./opt/anaconda3/lib/python3.8/site-packages (from torch) (0.18.2)\n",
      "Requirement already satisfied: typing-extensions in ./opt/anaconda3/lib/python3.8/site-packages (from torch) (3.7.4.2)\n",
      "Installing collected packages: dataclasses, torch\n",
      "Successfully installed dataclasses-0.6 torch-1.7.0\n"
     ]
    }
   ],
   "source": [
    "#!pip install tensorflow\n",
    "#!pip install pythainlp\n",
    "!pip install torch"
   ]
  },
  {
   "cell_type": "code",
   "execution_count": null,
   "metadata": {},
   "outputs": [],
   "source": [
    "import tensorflow as tf\n",
    "import pandas as pd \n",
    "\n",
    "import numpy as np\n",
    "\n",
    "from pythainlp import word_tokenize\n",
    "from tqdm import tqdm_notebook\n",
    "from pythainlp.ulmfit import process_thai\n",
    "\n",
    "#viz\n",
    "import matplotlib.pyplot as plt\n",
    "import seaborn as sns"
   ]
  },
  {
   "cell_type": "code",
   "execution_count": 15,
   "metadata": {},
   "outputs": [],
   "source": [
    "df = pd.read_excel('Downloads/bank_text.xlsx')"
   ]
  },
  {
   "cell_type": "code",
   "execution_count": 17,
   "metadata": {},
   "outputs": [
    {
     "data": {
      "text/html": [
       "<div>\n",
       "<style scoped>\n",
       "    .dataframe tbody tr th:only-of-type {\n",
       "        vertical-align: middle;\n",
       "    }\n",
       "\n",
       "    .dataframe tbody tr th {\n",
       "        vertical-align: top;\n",
       "    }\n",
       "\n",
       "    .dataframe thead th {\n",
       "        text-align: right;\n",
       "    }\n",
       "</style>\n",
       "<table border=\"1\" class=\"dataframe\">\n",
       "  <thead>\n",
       "    <tr style=\"text-align: right;\">\n",
       "      <th></th>\n",
       "      <th>CreatedDate</th>\n",
       "      <th>CreatedTime</th>\n",
       "      <th>Topic</th>\n",
       "      <th>Description</th>\n",
       "      <th>UserName</th>\n",
       "      <th>Where</th>\n",
       "      <th>Channel</th>\n",
       "      <th>Link</th>\n",
       "      <th>Gender</th>\n",
       "      <th>EngagementPerMessage</th>\n",
       "      <th>...</th>\n",
       "      <th>Dislikes</th>\n",
       "      <th>Favorites</th>\n",
       "      <th>Comments</th>\n",
       "      <th>Reactions</th>\n",
       "      <th>Shares</th>\n",
       "      <th>Views</th>\n",
       "      <th>Keyword</th>\n",
       "      <th>Sentiments</th>\n",
       "      <th>Tag</th>\n",
       "      <th>Location</th>\n",
       "    </tr>\n",
       "  </thead>\n",
       "  <tbody>\n",
       "    <tr>\n",
       "      <th>0</th>\n",
       "      <td>2018-07-31</td>\n",
       "      <td>23:23:05</td>\n",
       "      <td>Tweeted</td>\n",
       "      <td>เพื่อนโอนเงินจากธ.อื่นมาให้เมื่อบ่าย ปัจจุบันเ...</td>\n",
       "      <td>Tatar_Wong</td>\n",
       "      <td>Tatar_Wong</td>\n",
       "      <td>twitter</td>\n",
       "      <td>http://twitter.com/Tatar_Wong/status/102432961...</td>\n",
       "      <td>Unknown</td>\n",
       "      <td>1.0</td>\n",
       "      <td>...</td>\n",
       "      <td>0</td>\n",
       "      <td>0</td>\n",
       "      <td>0</td>\n",
       "      <td>0</td>\n",
       "      <td>0</td>\n",
       "      <td>0</td>\n",
       "      <td>BBL</td>\n",
       "      <td>Negative</td>\n",
       "      <td>Mobile Banking</td>\n",
       "      <td>NaN</td>\n",
       "    </tr>\n",
       "    <tr>\n",
       "      <th>1</th>\n",
       "      <td>2018-07-31</td>\n",
       "      <td>22:46:51</td>\n",
       "      <td>Tweeted</td>\n",
       "      <td>ตอนนี้มีใครโอนเงินเข้าธนาคารออมสินแล้วเงินยังเ...</td>\n",
       "      <td>DefsoulJBJY</td>\n",
       "      <td>DefsoulJBJY</td>\n",
       "      <td>twitter</td>\n",
       "      <td>http://twitter.com/DefsoulJBJY/status/10243204...</td>\n",
       "      <td>Unknown</td>\n",
       "      <td>1.0</td>\n",
       "      <td>...</td>\n",
       "      <td>0</td>\n",
       "      <td>0</td>\n",
       "      <td>0</td>\n",
       "      <td>0</td>\n",
       "      <td>0</td>\n",
       "      <td>0</td>\n",
       "      <td>GSB</td>\n",
       "      <td>Neutral</td>\n",
       "      <td>Mobile Banking</td>\n",
       "      <td>NaN</td>\n",
       "    </tr>\n",
       "    <tr>\n",
       "      <th>2</th>\n",
       "      <td>2018-07-31</td>\n",
       "      <td>22:24:11</td>\n",
       "      <td>Tweeted</td>\n",
       "      <td>โทรสามรอบกว่าจะติด โทรติดพนงไม่มีคนว่างอีก รอไ...</td>\n",
       "      <td>papaipapai</td>\n",
       "      <td>papaipapai</td>\n",
       "      <td>twitter</td>\n",
       "      <td>http://twitter.com/papaipapai/status/102431479...</td>\n",
       "      <td>Unknown</td>\n",
       "      <td>1.0</td>\n",
       "      <td>...</td>\n",
       "      <td>0</td>\n",
       "      <td>0</td>\n",
       "      <td>0</td>\n",
       "      <td>0</td>\n",
       "      <td>0</td>\n",
       "      <td>0</td>\n",
       "      <td>BAY</td>\n",
       "      <td>Neutral</td>\n",
       "      <td>Internet Banking</td>\n",
       "      <td>NaN</td>\n",
       "    </tr>\n",
       "    <tr>\n",
       "      <th>3</th>\n",
       "      <td>2018-07-31</td>\n",
       "      <td>22:12:26</td>\n",
       "      <td>Tweeted</td>\n",
       "      <td>แอพบัวหลวงควรพัฒนาปรับปรุงมั้งนะ =_____=</td>\n",
       "      <td>nuueyezz13</td>\n",
       "      <td>nuueyezz13</td>\n",
       "      <td>twitter</td>\n",
       "      <td>http://twitter.com/nuueyezz13/status/102431183...</td>\n",
       "      <td>Unknown</td>\n",
       "      <td>0.0</td>\n",
       "      <td>...</td>\n",
       "      <td>0</td>\n",
       "      <td>0</td>\n",
       "      <td>0</td>\n",
       "      <td>0</td>\n",
       "      <td>0</td>\n",
       "      <td>0</td>\n",
       "      <td>BBL</td>\n",
       "      <td>Neutral</td>\n",
       "      <td>Mobile Banking</td>\n",
       "      <td>NaN</td>\n",
       "    </tr>\n",
       "    <tr>\n",
       "      <th>4</th>\n",
       "      <td>2018-07-31</td>\n",
       "      <td>22:12:26</td>\n",
       "      <td>Tweeted</td>\n",
       "      <td>แอพบัวหลวงควรพัฒนาปรับปรุงมั้งนะ =_____=</td>\n",
       "      <td>nuueyezz13</td>\n",
       "      <td>nuueyezz13</td>\n",
       "      <td>twitter</td>\n",
       "      <td>http://twitter.com/nuueyezz13/status/102431183...</td>\n",
       "      <td>Unknown</td>\n",
       "      <td>0.0</td>\n",
       "      <td>...</td>\n",
       "      <td>0</td>\n",
       "      <td>0</td>\n",
       "      <td>0</td>\n",
       "      <td>0</td>\n",
       "      <td>0</td>\n",
       "      <td>0</td>\n",
       "      <td>BBL</td>\n",
       "      <td>Neutral</td>\n",
       "      <td>User Interface</td>\n",
       "      <td>NaN</td>\n",
       "    </tr>\n",
       "  </tbody>\n",
       "</table>\n",
       "<p>5 rows × 22 columns</p>\n",
       "</div>"
      ],
      "text/plain": [
       "  CreatedDate CreatedTime    Topic  \\\n",
       "0  2018-07-31    23:23:05  Tweeted   \n",
       "1  2018-07-31    22:46:51  Tweeted   \n",
       "2  2018-07-31    22:24:11  Tweeted   \n",
       "3  2018-07-31    22:12:26  Tweeted   \n",
       "4  2018-07-31    22:12:26  Tweeted   \n",
       "\n",
       "                                         Description     UserName  \\\n",
       "0  เพื่อนโอนเงินจากธ.อื่นมาให้เมื่อบ่าย ปัจจุบันเ...   Tatar_Wong   \n",
       "1  ตอนนี้มีใครโอนเงินเข้าธนาคารออมสินแล้วเงินยังเ...  DefsoulJBJY   \n",
       "2  โทรสามรอบกว่าจะติด โทรติดพนงไม่มีคนว่างอีก รอไ...   papaipapai   \n",
       "3           แอพบัวหลวงควรพัฒนาปรับปรุงมั้งนะ =_____=   nuueyezz13   \n",
       "4           แอพบัวหลวงควรพัฒนาปรับปรุงมั้งนะ =_____=   nuueyezz13   \n",
       "\n",
       "         Where  Channel                                               Link  \\\n",
       "0   Tatar_Wong  twitter  http://twitter.com/Tatar_Wong/status/102432961...   \n",
       "1  DefsoulJBJY  twitter  http://twitter.com/DefsoulJBJY/status/10243204...   \n",
       "2   papaipapai  twitter  http://twitter.com/papaipapai/status/102431479...   \n",
       "3   nuueyezz13  twitter  http://twitter.com/nuueyezz13/status/102431183...   \n",
       "4   nuueyezz13  twitter  http://twitter.com/nuueyezz13/status/102431183...   \n",
       "\n",
       "    Gender  EngagementPerMessage  ...  Dislikes  Favorites  Comments  \\\n",
       "0  Unknown                   1.0  ...         0          0         0   \n",
       "1  Unknown                   1.0  ...         0          0         0   \n",
       "2  Unknown                   1.0  ...         0          0         0   \n",
       "3  Unknown                   0.0  ...         0          0         0   \n",
       "4  Unknown                   0.0  ...         0          0         0   \n",
       "\n",
       "   Reactions  Shares  Views  Keyword  Sentiments               Tag Location  \n",
       "0          0       0      0      BBL    Negative    Mobile Banking      NaN  \n",
       "1          0       0      0      GSB     Neutral    Mobile Banking      NaN  \n",
       "2          0       0      0      BAY     Neutral  Internet Banking      NaN  \n",
       "3          0       0      0      BBL     Neutral    Mobile Banking      NaN  \n",
       "4          0       0      0      BBL     Neutral    User Interface      NaN  \n",
       "\n",
       "[5 rows x 22 columns]"
      ]
     },
     "execution_count": 17,
     "metadata": {},
     "output_type": "execute_result"
    }
   ],
   "source": [
    "df.head()"
   ]
  },
  {
   "cell_type": "code",
   "execution_count": 77,
   "metadata": {},
   "outputs": [],
   "source": [
    "df2= df[['Description','Sentiments']]"
   ]
  },
  {
   "cell_type": "code",
   "execution_count": 73,
   "metadata": {},
   "outputs": [
    {
     "data": {
      "text/html": [
       "<div>\n",
       "<style scoped>\n",
       "    .dataframe tbody tr th:only-of-type {\n",
       "        vertical-align: middle;\n",
       "    }\n",
       "\n",
       "    .dataframe tbody tr th {\n",
       "        vertical-align: top;\n",
       "    }\n",
       "\n",
       "    .dataframe thead th {\n",
       "        text-align: right;\n",
       "    }\n",
       "</style>\n",
       "<table border=\"1\" class=\"dataframe\">\n",
       "  <thead>\n",
       "    <tr style=\"text-align: right;\">\n",
       "      <th></th>\n",
       "      <th>Description</th>\n",
       "      <th>Sentiments</th>\n",
       "    </tr>\n",
       "  </thead>\n",
       "  <tbody>\n",
       "    <tr>\n",
       "      <th>0</th>\n",
       "      <td>เพื่อนโอนเงินจากธ.อื่นมาให้เมื่อบ่าย ปัจจุบันเ...</td>\n",
       "      <td>Negative</td>\n",
       "    </tr>\n",
       "    <tr>\n",
       "      <th>1</th>\n",
       "      <td>ตอนนี้มีใครโอนเงินเข้าธนาคารออมสินแล้วเงินยังเ...</td>\n",
       "      <td>Neutral</td>\n",
       "    </tr>\n",
       "    <tr>\n",
       "      <th>2</th>\n",
       "      <td>โทรสามรอบกว่าจะติด โทรติดพนงไม่มีคนว่างอีก รอไ...</td>\n",
       "      <td>Neutral</td>\n",
       "    </tr>\n",
       "    <tr>\n",
       "      <th>3</th>\n",
       "      <td>แอพบัวหลวงควรพัฒนาปรับปรุงมั้งนะ =_____=</td>\n",
       "      <td>Neutral</td>\n",
       "    </tr>\n",
       "    <tr>\n",
       "      <th>4</th>\n",
       "      <td>แอพบัวหลวงควรพัฒนาปรับปรุงมั้งนะ =_____=</td>\n",
       "      <td>Neutral</td>\n",
       "    </tr>\n",
       "  </tbody>\n",
       "</table>\n",
       "</div>"
      ],
      "text/plain": [
       "                                         Description Sentiments\n",
       "0  เพื่อนโอนเงินจากธ.อื่นมาให้เมื่อบ่าย ปัจจุบันเ...   Negative\n",
       "1  ตอนนี้มีใครโอนเงินเข้าธนาคารออมสินแล้วเงินยังเ...    Neutral\n",
       "2  โทรสามรอบกว่าจะติด โทรติดพนงไม่มีคนว่างอีก รอไ...    Neutral\n",
       "3           แอพบัวหลวงควรพัฒนาปรับปรุงมั้งนะ =_____=    Neutral\n",
       "4           แอพบัวหลวงควรพัฒนาปรับปรุงมั้งนะ =_____=    Neutral"
      ]
     },
     "execution_count": 73,
     "metadata": {},
     "output_type": "execute_result"
    }
   ],
   "source": [
    "df2.head()"
   ]
  },
  {
   "cell_type": "code",
   "execution_count": 102,
   "metadata": {},
   "outputs": [
    {
     "data": {
      "text/plain": [
       "Neutral     332\n",
       "Negative    325\n",
       "Positive     45\n",
       "Name: Sentiments, dtype: int64"
      ]
     },
     "execution_count": 102,
     "metadata": {},
     "output_type": "execute_result"
    }
   ],
   "source": [
    "df2['Sentiments'].value_counts(normalize=False)"
   ]
  },
  {
   "cell_type": "code",
   "execution_count": 78,
   "metadata": {},
   "outputs": [
    {
     "name": "stderr",
     "output_type": "stream",
     "text": [
      "<ipython-input-78-b26b3e1bbf97>:1: SettingWithCopyWarning: \n",
      "A value is trying to be set on a copy of a slice from a DataFrame\n",
      "\n",
      "See the caveats in the documentation: https://pandas.pydata.org/pandas-docs/stable/user_guide/indexing.html#returning-a-view-versus-a-copy\n",
      "  df2.drop_duplicates(subset=['Description'],inplace=True)\n"
     ]
    }
   ],
   "source": [
    "df2.drop_duplicates(subset=['Description'],inplace=True)"
   ]
  },
  {
   "cell_type": "code",
   "execution_count": 101,
   "metadata": {},
   "outputs": [],
   "source": [
    "#from sklearn.model_selection import train_test_split\n",
    "#X_train, X_test, y_train, y_test = train_test_split(features, df[\"target\"], stratify = df[\"target\"], test_size = 0.2)\n",
    "np.random.seed(1000)\n",
    "remove_n = 100\n",
    "drop_indices = np.random.choice(df.index, remove_n, replace=False)\n",
    "df2 = df2.drop(df2[df2['Sentiments']== \"Neutral\"].sample(frac=.75).index)"
   ]
  },
  {
   "cell_type": "code",
   "execution_count": 103,
   "metadata": {},
   "outputs": [
    {
     "name": "stdout",
     "output_type": "stream",
     "text": [
      "1 ['เพื่อน', 'โอน', 'เงิน', 'จาก', 'ธ.', 'อื่น', 'มา', 'ให้', 'เมื่อ', 'บ่าย', ' ', 'ปัจจุบัน', 'เงิน', 'ยัง', 'ไม่', 'เข้า', 'เลย', 'จ้า', ' ', 'เงิน', 'กุ', 'ไป', 'ไหน', '?', ' ', '#', 'ธนาคาร', 'กรุงเทพ']\n",
      "1 ['จน', 'ตอนนี้', 'ก็', 'ยัง', 'เข้า', 'แอพ', 'บัวหลวง', 'ไม่', 'ได้', ' ', 'จะ', 'แฮ', 'ง', 'ไป', 'จนถึง', 'เมื่อไหร่', ' ', 'ชาติหน้า', 'เลย', 'ไหม', 'มม']\n"
     ]
    }
   ],
   "source": [
    "x =df2.Description[:2]\n",
    "for i in x:\n",
    "    print(\"1\", word_tokenize(i))"
   ]
  },
  {
   "cell_type": "code",
   "execution_count": null,
   "metadata": {},
   "outputs": [],
   "source": []
  },
  {
   "cell_type": "code",
   "execution_count": 36,
   "metadata": {},
   "outputs": [],
   "source": [
    "x = df2.Description[:2]"
   ]
  },
  {
   "cell_type": "code",
   "execution_count": 104,
   "metadata": {},
   "outputs": [],
   "source": [
    "def get_tokenize(x):\n",
    "    return word_tokenize(x)"
   ]
  },
  {
   "cell_type": "code",
   "execution_count": 105,
   "metadata": {},
   "outputs": [],
   "source": [
    "tokenized_text=[]\n",
    "for i in df2.Description:\n",
    "    tokenized_text.append(word_tokenize(i))\n",
    "    "
   ]
  },
  {
   "cell_type": "code",
   "execution_count": 106,
   "metadata": {},
   "outputs": [
    {
     "data": {
      "text/plain": [
       "['เพื่อน',\n",
       " 'โอน',\n",
       " 'เงิน',\n",
       " 'จาก',\n",
       " 'ธ.',\n",
       " 'อื่น',\n",
       " 'มา',\n",
       " 'ให้',\n",
       " 'เมื่อ',\n",
       " 'บ่าย',\n",
       " ' ',\n",
       " 'ปัจจุบัน',\n",
       " 'เงิน',\n",
       " 'ยัง',\n",
       " 'ไม่',\n",
       " 'เข้า',\n",
       " 'เลย',\n",
       " 'จ้า',\n",
       " ' ',\n",
       " 'เงิน',\n",
       " 'กุ',\n",
       " 'ไป',\n",
       " 'ไหน',\n",
       " '?',\n",
       " ' ',\n",
       " '#',\n",
       " 'ธนาคาร',\n",
       " 'กรุงเทพ']"
      ]
     },
     "execution_count": 106,
     "metadata": {},
     "output_type": "execute_result"
    }
   ],
   "source": [
    "tokenized_text[0]"
   ]
  },
  {
   "cell_type": "code",
   "execution_count": 107,
   "metadata": {},
   "outputs": [],
   "source": [
    "from sklearn.feature_extraction.text import TfidfVectorizer"
   ]
  },
  {
   "cell_type": "code",
   "execution_count": 108,
   "metadata": {},
   "outputs": [],
   "source": [
    "vectorizer = TfidfVectorizer()\n",
    "all_tokenized = [\" \". join(x) for x in tokenized_text]\n",
    "X = vectorizer.fit_transform(all_tokenized)"
   ]
  },
  {
   "cell_type": "code",
   "execution_count": 109,
   "metadata": {},
   "outputs": [
    {
     "data": {
      "text/plain": [
       "<702x2068 sparse matrix of type '<class 'numpy.float64'>'\n",
       "\twith 16986 stored elements in Compressed Sparse Row format>"
      ]
     },
     "execution_count": 109,
     "metadata": {},
     "output_type": "execute_result"
    }
   ],
   "source": [
    "X"
   ]
  },
  {
   "cell_type": "code",
   "execution_count": 110,
   "metadata": {},
   "outputs": [],
   "source": [
    "#print(vectorizer.get_feature_names())\n",
    "from sklearn.model_selection import train_test_split\n",
    "X_train, X_test, y_train, y_test = train_test_split(X, df2[\"Sentiments\"], stratify = df2[\"Sentiments\"], test_size = 0.2)\n",
    "\n"
   ]
  },
  {
   "cell_type": "code",
   "execution_count": 111,
   "metadata": {},
   "outputs": [],
   "source": [
    "from sklearn.naive_bayes import MultinomialNB"
   ]
  },
  {
   "cell_type": "code",
   "execution_count": 123,
   "metadata": {},
   "outputs": [],
   "source": [
    "from sklearn.model_selection import cross_val_score\n",
    "from sklearn.metrics import fbeta_score\n",
    "\n",
    "from sklearn.naive_bayes import MultinomialNB\n",
    "multinomialNb = MultinomialNB()\n",
    "multinomialNb.fit(X_train, y_train)\n",
    "\n",
    "y_pred_train = multinomialNb.predict(X_train)\n",
    "y_pred_test = multinomialNb.predict(X_test)\n",
    "\n"
   ]
  },
  {
   "cell_type": "code",
   "execution_count": 117,
   "metadata": {},
   "outputs": [],
   "source": [
    "from sklearn.metrics import accuracy_score"
   ]
  },
  {
   "cell_type": "code",
   "execution_count": 119,
   "metadata": {},
   "outputs": [
    {
     "data": {
      "text/plain": [
       "0.6595744680851063"
      ]
     },
     "execution_count": 119,
     "metadata": {},
     "output_type": "execute_result"
    }
   ],
   "source": [
    "accuracy_score(y_pred,y_test)"
   ]
  },
  {
   "cell_type": "code",
   "execution_count": 121,
   "metadata": {},
   "outputs": [],
   "source": [
    "from sklearn.metrics import classification_report"
   ]
  },
  {
   "cell_type": "code",
   "execution_count": 124,
   "metadata": {},
   "outputs": [
    {
     "name": "stderr",
     "output_type": "stream",
     "text": [
      "/Users/theethat/opt/anaconda3/lib/python3.8/site-packages/sklearn/metrics/_classification.py:1221: UndefinedMetricWarning: Precision and F-score are ill-defined and being set to 0.0 in labels with no predicted samples. Use `zero_division` parameter to control this behavior.\n",
      "  _warn_prf(average, modifier, msg_start, len(result))\n"
     ]
    },
    {
     "data": {
      "text/plain": [
       "'              precision    recall  f1-score   support\\n\\n    Negative       0.63      0.78      0.70        65\\n     Neutral       0.70      0.63      0.66        67\\n    Positive       0.00      0.00      0.00         9\\n\\n    accuracy                           0.66       141\\n   macro avg       0.44      0.47      0.45       141\\nweighted avg       0.62      0.66      0.64       141\\n'"
      ]
     },
     "execution_count": 124,
     "metadata": {},
     "output_type": "execute_result"
    }
   ],
   "source": [
    "classification_report(y_test,y_pred_test)"
   ]
  },
  {
   "cell_type": "code",
   "execution_count": 125,
   "metadata": {},
   "outputs": [
    {
     "data": {
      "text/plain": [
       "'              precision    recall  f1-score   support\\n\\n    Negative       0.79      0.95      0.87       260\\n     Neutral       0.86      0.81      0.83       265\\n    Positive       0.00      0.00      0.00        36\\n\\n    accuracy                           0.82       561\\n   macro avg       0.55      0.59      0.57       561\\nweighted avg       0.77      0.82      0.80       561\\n'"
      ]
     },
     "execution_count": 125,
     "metadata": {},
     "output_type": "execute_result"
    }
   ],
   "source": [
    "classification_report(y_train,y_pred_train)"
   ]
  },
  {
   "cell_type": "code",
   "execution_count": 130,
   "metadata": {},
   "outputs": [
    {
     "name": "stdout",
     "output_type": "stream",
     "text": [
      "Requirement already satisfied: tensorflow_datasets in ./opt/anaconda3/lib/python3.8/site-packages (4.1.0)\n",
      "Requirement already satisfied: six in ./opt/anaconda3/lib/python3.8/site-packages (from tensorflow_datasets) (1.15.0)\n",
      "Requirement already satisfied: numpy in ./opt/anaconda3/lib/python3.8/site-packages (from tensorflow_datasets) (1.18.5)\n",
      "Requirement already satisfied: attrs>=18.1.0 in ./opt/anaconda3/lib/python3.8/site-packages (from tensorflow_datasets) (19.3.0)\n",
      "Requirement already satisfied: promise in ./opt/anaconda3/lib/python3.8/site-packages (from tensorflow_datasets) (2.3)\n",
      "Requirement already satisfied: absl-py in ./opt/anaconda3/lib/python3.8/site-packages (from tensorflow_datasets) (0.11.0)\n",
      "Requirement already satisfied: termcolor in ./opt/anaconda3/lib/python3.8/site-packages (from tensorflow_datasets) (1.1.0)\n",
      "Requirement already satisfied: tqdm in ./opt/anaconda3/lib/python3.8/site-packages (from tensorflow_datasets) (4.47.0)\n",
      "Requirement already satisfied: importlib-resources; python_version < \"3.9\" in ./opt/anaconda3/lib/python3.8/site-packages (from tensorflow_datasets) (3.3.0)\n",
      "Requirement already satisfied: dill in ./opt/anaconda3/lib/python3.8/site-packages (from tensorflow_datasets) (0.3.3)\n",
      "Requirement already satisfied: requests>=2.19.0 in ./opt/anaconda3/lib/python3.8/site-packages (from tensorflow_datasets) (2.24.0)\n",
      "Requirement already satisfied: future in ./opt/anaconda3/lib/python3.8/site-packages (from tensorflow_datasets) (0.18.2)\n",
      "Requirement already satisfied: tensorflow-metadata in ./opt/anaconda3/lib/python3.8/site-packages (from tensorflow_datasets) (0.25.0)\n",
      "Requirement already satisfied: protobuf>=3.6.1 in ./opt/anaconda3/lib/python3.8/site-packages (from tensorflow_datasets) (3.14.0)\n",
      "Requirement already satisfied: chardet<4,>=3.0.2 in ./opt/anaconda3/lib/python3.8/site-packages (from requests>=2.19.0->tensorflow_datasets) (3.0.4)\n",
      "Requirement already satisfied: urllib3!=1.25.0,!=1.25.1,<1.26,>=1.21.1 in ./opt/anaconda3/lib/python3.8/site-packages (from requests>=2.19.0->tensorflow_datasets) (1.25.9)\n",
      "Requirement already satisfied: idna<3,>=2.5 in ./opt/anaconda3/lib/python3.8/site-packages (from requests>=2.19.0->tensorflow_datasets) (2.10)\n",
      "Requirement already satisfied: certifi>=2017.4.17 in ./opt/anaconda3/lib/python3.8/site-packages (from requests>=2.19.0->tensorflow_datasets) (2020.6.20)\n",
      "Requirement already satisfied: googleapis-common-protos<2,>=1.52.0 in ./opt/anaconda3/lib/python3.8/site-packages (from tensorflow-metadata->tensorflow_datasets) (1.52.0)\n"
     ]
    }
   ],
   "source": [
    "!pip install tensorflow_datasets\n",
    "import numpy as np\n",
    "\n",
    "import tensorflow_datasets as tfds\n",
    "import tensorflow as tf\n",
    "\n",
    "tfds.disable_progress_bar()"
   ]
  },
  {
   "cell_type": "code",
   "execution_count": 131,
   "metadata": {},
   "outputs": [],
   "source": [
    "import matplotlib.pyplot as plt\n",
    "\n",
    "def plot_graphs(history, metric):\n",
    "  plt.plot(history.history[metric])\n",
    "  plt.plot(history.history['val_'+metric], '')\n",
    "  plt.xlabel(\"Epochs\")\n",
    "  plt.ylabel(metric)\n",
    "  plt.legend([metric, 'val_'+metric])"
   ]
  },
  {
   "cell_type": "code",
   "execution_count": 132,
   "metadata": {},
   "outputs": [
    {
     "name": "stdout",
     "output_type": "stream",
     "text": [
      "\u001b[1mDownloading and preparing dataset imdb_reviews/plain_text/1.0.0 (download: 80.23 MiB, generated: Unknown size, total: 80.23 MiB) to /Users/theethat/tensorflow_datasets/imdb_reviews/plain_text/1.0.0...\u001b[0m\n",
      "Shuffling and writing examples to /Users/theethat/tensorflow_datasets/imdb_reviews/plain_text/1.0.0.incomplete6QD8HT/imdb_reviews-train.tfrecord\n",
      "Shuffling and writing examples to /Users/theethat/tensorflow_datasets/imdb_reviews/plain_text/1.0.0.incomplete6QD8HT/imdb_reviews-test.tfrecord\n",
      "Shuffling and writing examples to /Users/theethat/tensorflow_datasets/imdb_reviews/plain_text/1.0.0.incomplete6QD8HT/imdb_reviews-unsupervised.tfrecord\n",
      "\u001b[1mDataset imdb_reviews downloaded and prepared to /Users/theethat/tensorflow_datasets/imdb_reviews/plain_text/1.0.0. Subsequent calls will reuse this data.\u001b[0m\n"
     ]
    },
    {
     "data": {
      "text/plain": [
       "(TensorSpec(shape=(), dtype=tf.string, name=None),\n",
       " TensorSpec(shape=(), dtype=tf.int64, name=None))"
      ]
     },
     "execution_count": 132,
     "metadata": {},
     "output_type": "execute_result"
    }
   ],
   "source": [
    "dataset, info = tfds.load('imdb_reviews', with_info=True,\n",
    "                          as_supervised=True)\n",
    "train_dataset, test_dataset = dataset['train'], dataset['test']\n",
    "\n",
    "train_dataset.element_spec"
   ]
  },
  {
   "cell_type": "code",
   "execution_count": 133,
   "metadata": {},
   "outputs": [
    {
     "name": "stdout",
     "output_type": "stream",
     "text": [
      "text:  b\"This was an absolutely terrible movie. Don't be lured in by Christopher Walken or Michael Ironside. Both are great actors, but this must simply be their worst role in history. Even their great acting could not redeem this movie's ridiculous storyline. This movie is an early nineties US propaganda piece. The most pathetic scenes were those when the Columbian rebels were making their cases for revolutions. Maria Conchita Alonso appeared phony, and her pseudo-love affair with Walken was nothing but a pathetic emotional plug in a movie that was devoid of any real meaning. I am disappointed that there are movies like this, ruining actor's like Christopher Walken's good name. I could barely sit through it.\"\n",
      "label:  0\n"
     ]
    }
   ],
   "source": [
    "for example, label in train_dataset.take(1):\n",
    "  print('text: ', example.numpy())\n",
    "  print('label: ', label.numpy())"
   ]
  },
  {
   "cell_type": "code",
   "execution_count": 134,
   "metadata": {},
   "outputs": [],
   "source": [
    "BUFFER_SIZE = 10000\n",
    "BATCH_SIZE = 64"
   ]
  },
  {
   "cell_type": "code",
   "execution_count": 135,
   "metadata": {},
   "outputs": [],
   "source": [
    "train_dataset = train_dataset.shuffle(BUFFER_SIZE).batch(BATCH_SIZE).prefetch(tf.data.experimental.AUTOTUNE)\n",
    "test_dataset = test_dataset.batch(BATCH_SIZE).prefetch(tf.data.experimental.AUTOTUNE)"
   ]
  },
  {
   "cell_type": "code",
   "execution_count": 136,
   "metadata": {},
   "outputs": [],
   "source": [
    "VOCAB_SIZE=1000\n",
    "encoder = tf.keras.layers.experimental.preprocessing.TextVectorization(\n",
    "    max_tokens=VOCAB_SIZE)\n",
    "encoder.adapt(train_dataset.map(lambda text, label: text))"
   ]
  },
  {
   "cell_type": "code",
   "execution_count": 137,
   "metadata": {},
   "outputs": [
    {
     "data": {
      "text/plain": [
       "array(['', '[UNK]', 'the', 'and', 'a', 'of', 'to', 'is', 'in', 'it', 'i',\n",
       "       'this', 'that', 'br', 'was', 'as', 'for', 'with', 'movie', 'but'],\n",
       "      dtype='<U14')"
      ]
     },
     "execution_count": 137,
     "metadata": {},
     "output_type": "execute_result"
    }
   ],
   "source": [
    "vocab = np.array(encoder.get_vocabulary())\n",
    "vocab[:20]"
   ]
  },
  {
   "cell_type": "code",
   "execution_count": 138,
   "metadata": {},
   "outputs": [
    {
     "data": {
      "text/plain": [
       "array(['', '[UNK]', 'the', 'and', 'a', 'of', 'to', 'is', 'in', 'it', 'i',\n",
       "       'this', 'that', 'br', 'was', 'as', 'for', 'with', 'movie', 'but'],\n",
       "      dtype='<U14')"
      ]
     },
     "execution_count": 138,
     "metadata": {},
     "output_type": "execute_result"
    }
   ],
   "source": [
    "vocab = np.array(encoder.get_vocabulary())\n",
    "vocab[:20]"
   ]
  },
  {
   "cell_type": "code",
   "execution_count": 139,
   "metadata": {},
   "outputs": [],
   "source": [
    "model = tf.keras.Sequential([\n",
    "    encoder,\n",
    "    tf.keras.layers.Embedding(\n",
    "        input_dim=len(encoder.get_vocabulary()),\n",
    "        output_dim=64,\n",
    "        # Use masking to handle the variable sequence lengths\n",
    "        mask_zero=True),\n",
    "    tf.keras.layers.Bidirectional(tf.keras.layers.LSTM(64)),\n",
    "    tf.keras.layers.Dense(64, activation='relu'),\n",
    "    tf.keras.layers.Dense(1)\n",
    "])"
   ]
  },
  {
   "cell_type": "code",
   "execution_count": 140,
   "metadata": {},
   "outputs": [
    {
     "name": "stdout",
     "output_type": "stream",
     "text": [
      "[False, True, True, True, True]\n"
     ]
    }
   ],
   "source": [
    "print([layer.supports_masking for layer in model.layers])"
   ]
  },
  {
   "cell_type": "code",
   "execution_count": 141,
   "metadata": {},
   "outputs": [
    {
     "name": "stdout",
     "output_type": "stream",
     "text": [
      "[0.00338266]\n"
     ]
    }
   ],
   "source": [
    "sample_text = ('The movie was cool. The animation and the graphics '\n",
    "               'were out of this world. I would recommend this movie.')\n",
    "predictions = model.predict(np.array([sample_text]))\n",
    "print(predictions[0])"
   ]
  },
  {
   "cell_type": "code",
   "execution_count": 142,
   "metadata": {},
   "outputs": [
    {
     "name": "stdout",
     "output_type": "stream",
     "text": [
      "[0.00338266]\n"
     ]
    }
   ],
   "source": [
    "padding = \"the \" * 2000\n",
    "predictions = model.predict(np.array([sample_text, padding]))\n",
    "print(predictions[0])"
   ]
  },
  {
   "cell_type": "code",
   "execution_count": 143,
   "metadata": {},
   "outputs": [],
   "source": [
    "model.compile(loss=tf.keras.losses.BinaryCrossentropy(from_logits=True),\n",
    "              optimizer=tf.keras.optimizers.Adam(1e-4),\n",
    "              metrics=['accuracy'])"
   ]
  },
  {
   "cell_type": "code",
   "execution_count": 144,
   "metadata": {},
   "outputs": [
    {
     "name": "stdout",
     "output_type": "stream",
     "text": [
      "Epoch 1/10\n",
      "391/391 [==============================] - 406s 1s/step - loss: 0.6433 - accuracy: 0.5574 - val_loss: 0.4986 - val_accuracy: 0.7443\n",
      "Epoch 2/10\n",
      "391/391 [==============================] - 434s 1s/step - loss: 0.4580 - accuracy: 0.7808 - val_loss: 0.4222 - val_accuracy: 0.7943\n",
      "Epoch 3/10\n",
      "391/391 [==============================] - 455s 1s/step - loss: 0.3814 - accuracy: 0.8349 - val_loss: 0.3702 - val_accuracy: 0.8422\n",
      "Epoch 4/10\n",
      "391/391 [==============================] - 468s 1s/step - loss: 0.3460 - accuracy: 0.8531 - val_loss: 0.3500 - val_accuracy: 0.8484\n",
      "Epoch 5/10\n",
      "391/391 [==============================] - 466s 1s/step - loss: 0.3287 - accuracy: 0.8612 - val_loss: 0.3331 - val_accuracy: 0.8562\n",
      "Epoch 6/10\n",
      "391/391 [==============================] - 429s 1s/step - loss: 0.3160 - accuracy: 0.8672 - val_loss: 0.3298 - val_accuracy: 0.8531\n",
      "Epoch 7/10\n",
      "391/391 [==============================] - 456s 1s/step - loss: 0.3079 - accuracy: 0.8704 - val_loss: 0.3276 - val_accuracy: 0.8620\n",
      "Epoch 8/10\n",
      "391/391 [==============================] - 410s 1s/step - loss: 0.3037 - accuracy: 0.8720 - val_loss: 0.3222 - val_accuracy: 0.8599\n",
      "Epoch 9/10\n",
      "391/391 [==============================] - 404s 1s/step - loss: 0.3011 - accuracy: 0.8737 - val_loss: 0.3215 - val_accuracy: 0.8615\n",
      "Epoch 10/10\n",
      "391/391 [==============================] - 414s 1s/step - loss: 0.2989 - accuracy: 0.8743 - val_loss: 0.3200 - val_accuracy: 0.8589\n"
     ]
    }
   ],
   "source": [
    "history = model.fit(train_dataset, epochs=10,\n",
    "                    validation_data=test_dataset, \n",
    "                    validation_steps=30)"
   ]
  },
  {
   "cell_type": "code",
   "execution_count": 145,
   "metadata": {},
   "outputs": [
    {
     "name": "stdout",
     "output_type": "stream",
     "text": [
      "391/391 [==============================] - 98s 251ms/step - loss: 0.3151 - accuracy: 0.8632\n",
      "Test Loss: 0.3150942921638489\n",
      "Test Accuracy: 0.8631600141525269\n"
     ]
    }
   ],
   "source": [
    "test_loss, test_acc = model.evaluate(test_dataset)\n",
    "\n",
    "print('Test Loss: {}'.format(test_loss))\n",
    "print('Test Accuracy: {}'.format(test_acc))"
   ]
  },
  {
   "cell_type": "code",
   "execution_count": 146,
   "metadata": {},
   "outputs": [
    {
     "data": {
      "text/plain": [
       "(0.0, 0.6604848369956017)"
      ]
     },
     "execution_count": 146,
     "metadata": {},
     "output_type": "execute_result"
    },
    {
     "data": {
      "image/png": "[encoded data removed]",
      "text/plain": [
       "<Figure size 1152x576 with 2 Axes>"
      ]
     },
     "metadata": {
      "needs_background": "light"
     },
     "output_type": "display_data"
    }
   ],
   "source": [
    "plt.figure(figsize=(16,8))\n",
    "plt.subplot(1,2,1)\n",
    "plot_graphs(history, 'accuracy')\n",
    "plt.ylim(None,1)\n",
    "plt.subplot(1,2,2)\n",
    "plot_graphs(history, 'loss')\n",
    "plt.ylim(0,None)"
   ]
  },
  {
   "cell_type": "code",
   "execution_count": 148,
   "metadata": {},
   "outputs": [
    {
     "name": "stdout",
     "output_type": "stream",
     "text": [
      "[[0.80487275]]\n"
     ]
    }
   ],
   "source": [
    "sample_text = ('The movie was cool. The animation and the graphics '\n",
    "               'were out of this world. I would recommend this movie.')\n",
    "predictions = model.predict(np.array([sample_text]))\n",
    "print(predictions)"
   ]
  },
  {
   "cell_type": "code",
   "execution_count": 149,
   "metadata": {},
   "outputs": [
    {
     "name": "stdout",
     "output_type": "stream",
     "text": [
      "[[-1.6435711]]\n"
     ]
    }
   ],
   "source": [
    "# predict on a sample text without padding.\n",
    "\n",
    "sample_text = ('The movie was not good. The animation and the graphics '\n",
    "                    'were terrible. I would not recommend this movie.')\n",
    "predictions = model.predict(np.array([sample_text]))\n",
    "print(predictions)"
   ]
  },
  {
   "cell_type": "code",
   "execution_count": 150,
   "metadata": {},
   "outputs": [
    {
     "data": {
      "image/png": "[encoded data removed]",
      "text/plain": [
       "<Figure size 1152x432 with 2 Axes>"
      ]
     },
     "metadata": {
      "needs_background": "light"
     },
     "output_type": "display_data"
    }
   ],
   "source": [
    "plt.figure(figsize=(16,6))\n",
    "plt.subplot(1,2,1)\n",
    "plot_graphs(history, 'accuracy')\n",
    "plt.subplot(1,2,2)\n",
    "plot_graphs(history, 'loss')"
   ]
  },
  {
   "cell_type": "code",
   "execution_count": null,
   "metadata": {},
   "outputs": [],
   "source": []
  }
 ],
 "metadata": {
  "kernelspec": {
   "display_name": "Python 3",
   "language": "python",
   "name": "python3"
  },
  "language_info": {
   "codemirror_mode": {
    "name": "ipython",
    "version": 3
   },
   "file_extension": ".py",
   "mimetype": "text/x-python",
   "name": "python",
   "nbconvert_exporter": "python",
   "pygments_lexer": "ipython3",
   "version": "3.8.3"
  }
 },
 "nbformat": 4,
 "nbformat_minor": 4
}
